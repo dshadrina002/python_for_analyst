{
 "cells": [
  {
   "cell_type": "markdown",
   "id": "574153e5",
   "metadata": {},
   "source": [
    "### Условие 2\n",
    "На складе лежат разные фрукты в разном количестве.\n",
    "Нужно написать функцию, которая на вход принимает любое количество названий фруктов и их количество, а возвращает общее количество фруктов на складе"
   ]
  },
  {
   "cell_type": "code",
   "execution_count": 7,
   "id": "fb4617cd",
   "metadata": {},
   "outputs": [],
   "source": [
    "def count_fruits(**kwargs):\n",
    "    count = sum(kwargs.values())\n",
    "    return {\n",
    "        'Общее кол-во фруктов':count\n",
    "    }"
   ]
  },
  {
   "cell_type": "code",
   "execution_count": 8,
   "id": "c08afbc9",
   "metadata": {},
   "outputs": [
    {
     "data": {
      "text/plain": [
       "{'Общее кол-во фруктов': 6}"
      ]
     },
     "execution_count": 8,
     "metadata": {},
     "output_type": "execute_result"
    }
   ],
   "source": [
    "count_fruits(\n",
    "    яблоко = 1,\n",
    "    банан = 2,\n",
    "    лимон = 3\n",
    ")"
   ]
  },
  {
   "cell_type": "markdown",
   "id": "3c858767",
   "metadata": {},
   "source": [
    "### Условие 3\n",
    "Дан список с затратами на рекламу. Но в данных есть ошибки, некоторые затраты имеют отрицательную величину. Удалите такие значения из списка и посчитайте суммарные затраты\n",
    "[100, 125, -90, 345, 655, -1, 0, 200]\n",
    "Используйте list comprehensions"
   ]
  },
  {
   "cell_type": "code",
   "execution_count": 22,
   "id": "f51e58a6",
   "metadata": {},
   "outputs": [],
   "source": [
    "list_cost = [100, 125, -90, 345, 655, -1, 0, 200]"
   ]
  },
  {
   "cell_type": "code",
   "execution_count": 25,
   "id": "22d83c8c",
   "metadata": {},
   "outputs": [
    {
     "name": "stdout",
     "output_type": "stream",
     "text": [
      "Update cost list: [100, 125, 345, 655, 200] Total costs: 1425\n"
     ]
    }
   ],
   "source": [
    "upd_cost = [i for i in list_cost if i > 0]\n",
    "total_cost = sum(upd_cost)\n",
    "print(f'Update cost list: {upd_cost}' f' Total costs: {total_cost}')"
   ]
  },
  {
   "cell_type": "markdown",
   "id": "f18c5c53",
   "metadata": {},
   "source": [
    "### Условие 4"
   ]
  },
  {
   "cell_type": "markdown",
   "id": "dce0ff45",
   "metadata": {},
   "source": [
    "Даны два списка.\n",
    "\n",
    "Дата покупки\n",
    "['2021-09-14', '2021-12-15', '2021-09-08', '2021-12-05', '2021-10-09', '2021-09-30', '2021-12-22', '2021-11-29', '2021-12-24', '2021-11-26', '2021-10-27', '2021-12-18', '2021-11-09', '2021-11-23', '2021-09-27', '2021-10-02', '2021-12-27', '2021-09-20', '2021-12-13', '2021-11-01', '2021-11-09', '2021-12-06', '2021-12-08', '2021-10-09', '2021-10-31', '2021-09-30', '2021-11-09', '2021-12-13', '2021-10-26', '2021-12-09']"
   ]
  },
  {
   "cell_type": "markdown",
   "id": "de44f351",
   "metadata": {},
   "source": [
    "Суммы покупок по датам [1270, 8413, 9028, 3703, 5739, 4095, 295, 4944, 5723, 3701, 4471, 651, 7037, 4274, 6275, 4988, 6930, 2971, 6592, 2004, 2822, 519, 3406, 2732, 5015, 2008, 316, 6333, 5700, 2887]"
   ]
  },
  {
   "cell_type": "markdown",
   "id": "7c6094b2",
   "metadata": {},
   "source": [
    "#### 4.1 Найдите, какая выручка у компании в ноябре\n",
    "Используйте list comprehensions"
   ]
  },
  {
   "cell_type": "code",
   "execution_count": 45,
   "id": "2a397e61",
   "metadata": {},
   "outputs": [],
   "source": [
    "dates = ['2021-09-14', '2021-12-15', '2021-09-08', '2021-12-05', '2021-10-09', '2021-09-30', '2021-12-22', \n",
    "        '2021-11-29', '2021-12-24', '2021-11-26', '2021-10-27', '2021-12-18', '2021-11-09', '2021-11-23', \n",
    "        '2021-09-27', '2021-10-02', '2021-12-27', '2021-09-20', '2021-12-13', '2021-11-01', '2021-11-09', \n",
    "        '2021-12-06', '2021-12-08', '2021-10-09', '2021-10-31', '2021-09-30', '2021-11-09', '2021-12-13', \n",
    "        '2021-10-26', '2021-12-09']"
   ]
  },
  {
   "cell_type": "code",
   "execution_count": 46,
   "id": "8777f599",
   "metadata": {},
   "outputs": [],
   "source": [
    "revenue = [1270, 8413, 9028, 3703, 5739, 4095, 295, 4944, 5723, 3701, 4471, 651, \n",
    "           7037, 4274, 6275, 4988, 6930, 2971, 6592, 2004, 2822, 519, 3406, 2732, \n",
    "           5015, 2008, 316, 6333, 5700, 2887]"
   ]
  },
  {
   "cell_type": "code",
   "execution_count": 47,
   "id": "918ca452",
   "metadata": {},
   "outputs": [],
   "source": [
    "from datetime import datetime\n",
    "dates = [datetime.strptime(date, '%Y-%m-%d') for date in dates]"
   ]
  },
  {
   "cell_type": "code",
   "execution_count": 48,
   "id": "3b6a2b3f",
   "metadata": {},
   "outputs": [
    {
     "name": "stdout",
     "output_type": "stream",
     "text": [
      "Revenue in november: 25098\n"
     ]
    }
   ],
   "source": [
    "november_revenue = sum(revenue[i] for i in range(len(dates)) if dates[i].month == 11)\n",
    "print(f'Revenue in november: {november_revenue}')"
   ]
  },
  {
   "cell_type": "code",
   "execution_count": 51,
   "id": "73440e78",
   "metadata": {},
   "outputs": [],
   "source": [
    "def calc_monthly_revenue(dates: list[datetime], revenue: list[int]) -> dict[int, int]:\n",
    "    monthly_revenue = {}\n",
    "    for i in range(len(dates)):\n",
    "        if dates[i].month in monthly_revenue:\n",
    "            monthly_revenue[dates[i].month] += revenue[i]\n",
    "        else:\n",
    "            monthly_revenue[dates[i].month] = revenue[i]\n",
    "    return monthly_revenue  "
   ]
  },
  {
   "cell_type": "code",
   "execution_count": 52,
   "id": "e2730fce",
   "metadata": {},
   "outputs": [
    {
     "name": "stdout",
     "output_type": "stream",
     "text": [
      "Revenue per months: {9: 25647, 12: 45452, 10: 28645, 11: 25098}\n"
     ]
    }
   ],
   "source": [
    "monthly_revenue=calc_monthly_revenue(dates, revenue)\n",
    "print(f'Revenue per months: {monthly_revenue}')"
   ]
  },
  {
   "cell_type": "code",
   "execution_count": null,
   "id": "c1a8877e",
   "metadata": {},
   "outputs": [],
   "source": []
  }
 ],
 "metadata": {
  "kernelspec": {
   "display_name": "Python 3 (ipykernel)",
   "language": "python",
   "name": "python3"
  },
  "language_info": {
   "codemirror_mode": {
    "name": "ipython",
    "version": 3
   },
   "file_extension": ".py",
   "mimetype": "text/x-python",
   "name": "python",
   "nbconvert_exporter": "python",
   "pygments_lexer": "ipython3",
   "version": "3.9.13"
  }
 },
 "nbformat": 4,
 "nbformat_minor": 5
}
